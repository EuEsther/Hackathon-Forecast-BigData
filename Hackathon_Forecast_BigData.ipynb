{
  "nbformat": 4,
  "nbformat_minor": 0,
  "metadata": {
    "colab": {
      "provenance": [],
      "collapsed_sections": [
        "kxD-wSmg89AC",
        "Z0z9asPu889C",
        "3rMZBFYP886Z",
        "D7Wo-As-_kAp",
        "l2HXm7lV88iL",
        "e55hw6EU94tO",
        "imtnbHdr98xm",
        "WXgk4G15-BGl",
        "ifvrxHFk-X3t",
        "4iLXkAx4-afW",
        "ge-AC7dk-jpd"
      ]
    },
    "kernelspec": {
      "name": "python3",
      "display_name": "Python 3"
    },
    "language_info": {
      "name": "python"
    }
  },
  "cells": [
    {
      "cell_type": "markdown",
      "source": [
        "# Importação das bibliotecas & Setup"
      ],
      "metadata": {
        "id": "kxD-wSmg89AC"
      }
    },
    {
      "cell_type": "code",
      "source": [],
      "metadata": {
        "id": "iK_yV9fB9Erh"
      },
      "execution_count": null,
      "outputs": []
    },
    {
      "cell_type": "code",
      "source": [],
      "metadata": {
        "id": "aH0fR72-9FWg"
      },
      "execution_count": null,
      "outputs": []
    },
    {
      "cell_type": "code",
      "source": [],
      "metadata": {
        "id": "OxZ4-nmP9FKw"
      },
      "execution_count": null,
      "outputs": []
    },
    {
      "cell_type": "code",
      "source": [],
      "metadata": {
        "id": "QjN7TSkK9FB5"
      },
      "execution_count": null,
      "outputs": []
    },
    {
      "cell_type": "markdown",
      "source": [
        "# ETL (Carregamento & Limpeza de Dados)"
      ],
      "metadata": {
        "id": "Z0z9asPu889C"
      }
    },
    {
      "cell_type": "markdown",
      "source": [
        "## Carregamento"
      ],
      "metadata": {
        "id": "fWoh2I_59RR4"
      }
    },
    {
      "cell_type": "code",
      "source": [],
      "metadata": {
        "id": "5QohYm6T9OBB"
      },
      "execution_count": null,
      "outputs": []
    },
    {
      "cell_type": "markdown",
      "source": [
        "## Entendimento inicial"
      ],
      "metadata": {
        "id": "gghHee5h9WE4"
      }
    },
    {
      "cell_type": "code",
      "source": [],
      "metadata": {
        "id": "ZecL9JNb9N-g"
      },
      "execution_count": null,
      "outputs": []
    },
    {
      "cell_type": "code",
      "source": [],
      "metadata": {
        "id": "zBPmTAK39piP"
      },
      "execution_count": null,
      "outputs": []
    },
    {
      "cell_type": "markdown",
      "source": [
        "## Limpeza"
      ],
      "metadata": {
        "id": "-p6r4k679aY3"
      }
    },
    {
      "cell_type": "code",
      "source": [],
      "metadata": {
        "id": "GTHj1XLK9NsA"
      },
      "execution_count": null,
      "outputs": []
    },
    {
      "cell_type": "code",
      "source": [],
      "metadata": {
        "id": "nYX95kN-9NpC"
      },
      "execution_count": null,
      "outputs": []
    },
    {
      "cell_type": "markdown",
      "source": [
        "# Transformações de Base"
      ],
      "metadata": {
        "id": "3rMZBFYP886Z"
      }
    },
    {
      "cell_type": "code",
      "source": [],
      "metadata": {
        "id": "of2ZcguK_jNx"
      },
      "execution_count": null,
      "outputs": []
    },
    {
      "cell_type": "code",
      "source": [],
      "metadata": {
        "id": "D7QROGv0_oUh"
      },
      "execution_count": null,
      "outputs": []
    },
    {
      "cell_type": "markdown",
      "source": [
        "# Engenharia de Features"
      ],
      "metadata": {
        "id": "D7Wo-As-_kAp"
      }
    },
    {
      "cell_type": "markdown",
      "source": [
        "## Históricas"
      ],
      "metadata": {
        "id": "16ULG6ux884C"
      }
    },
    {
      "cell_type": "code",
      "source": [],
      "metadata": {
        "id": "rKS2Lu269nbn"
      },
      "execution_count": null,
      "outputs": []
    },
    {
      "cell_type": "code",
      "source": [],
      "metadata": {
        "id": "-PPKg6QE9nAn"
      },
      "execution_count": null,
      "outputs": []
    },
    {
      "cell_type": "markdown",
      "source": [
        "## Temporais"
      ],
      "metadata": {
        "id": "bMt8ci04881S"
      }
    },
    {
      "cell_type": "code",
      "source": [],
      "metadata": {
        "id": "8QC6G9D19xIu"
      },
      "execution_count": null,
      "outputs": []
    },
    {
      "cell_type": "code",
      "source": [],
      "metadata": {
        "id": "JhJpZ2cV9xZX"
      },
      "execution_count": null,
      "outputs": []
    },
    {
      "cell_type": "markdown",
      "source": [
        "## Produto & PDV"
      ],
      "metadata": {
        "id": "5_-XD38t88yp"
      }
    },
    {
      "cell_type": "code",
      "source": [],
      "metadata": {
        "id": "7ruUWeaW90Tn"
      },
      "execution_count": null,
      "outputs": []
    },
    {
      "cell_type": "code",
      "source": [],
      "metadata": {
        "id": "_VJ0vbYq9z7n"
      },
      "execution_count": null,
      "outputs": []
    },
    {
      "cell_type": "markdown",
      "source": [
        "# Split Temporal (Validação sem vazamento)"
      ],
      "metadata": {
        "id": "l2HXm7lV88iL"
      }
    },
    {
      "cell_type": "code",
      "execution_count": null,
      "metadata": {
        "id": "P7wGFOQ78u0T"
      },
      "outputs": [],
      "source": []
    },
    {
      "cell_type": "code",
      "source": [],
      "metadata": {
        "id": "_0_LGgupAI4v"
      },
      "execution_count": null,
      "outputs": []
    },
    {
      "cell_type": "markdown",
      "source": [
        "# Modelagem"
      ],
      "metadata": {
        "id": "e55hw6EU94tO"
      }
    },
    {
      "cell_type": "markdown",
      "source": [
        "## Baselines"
      ],
      "metadata": {
        "id": "imtnbHdr98xm"
      }
    },
    {
      "cell_type": "code",
      "source": [],
      "metadata": {
        "id": "Tdsc8Pp198T-"
      },
      "execution_count": null,
      "outputs": []
    },
    {
      "cell_type": "markdown",
      "source": [
        "## Modelos principais"
      ],
      "metadata": {
        "id": "WXgk4G15-BGl"
      }
    },
    {
      "cell_type": "markdown",
      "source": [
        "### Modelo 1"
      ],
      "metadata": {
        "id": "BYTAjq-w-Gre"
      }
    },
    {
      "cell_type": "code",
      "source": [],
      "metadata": {
        "id": "wSeH10Zf-RRN"
      },
      "execution_count": null,
      "outputs": []
    },
    {
      "cell_type": "code",
      "source": [],
      "metadata": {
        "id": "nZTJXGq7AOIn"
      },
      "execution_count": null,
      "outputs": []
    },
    {
      "cell_type": "markdown",
      "source": [
        "### Modelo 2"
      ],
      "metadata": {
        "id": "7mExx6AW-Ns0"
      }
    },
    {
      "cell_type": "code",
      "source": [],
      "metadata": {
        "id": "ExuiDn_d-S3t"
      },
      "execution_count": null,
      "outputs": []
    },
    {
      "cell_type": "code",
      "source": [],
      "metadata": {
        "id": "rVaoux3BAOzP"
      },
      "execution_count": null,
      "outputs": []
    },
    {
      "cell_type": "markdown",
      "source": [
        "### Modelo 3"
      ],
      "metadata": {
        "id": "OLSoj63x-SU7"
      }
    },
    {
      "cell_type": "code",
      "source": [],
      "metadata": {
        "id": "vL7b21O9-C1W"
      },
      "execution_count": null,
      "outputs": []
    },
    {
      "cell_type": "code",
      "source": [],
      "metadata": {
        "id": "pSomMQ_7APEf"
      },
      "execution_count": null,
      "outputs": []
    },
    {
      "cell_type": "markdown",
      "source": [
        "# Avaliação & Análise de Erro"
      ],
      "metadata": {
        "id": "ifvrxHFk-X3t"
      }
    },
    {
      "cell_type": "code",
      "source": [],
      "metadata": {
        "id": "10HBf8Us-bcN"
      },
      "execution_count": null,
      "outputs": []
    },
    {
      "cell_type": "code",
      "source": [],
      "metadata": {
        "id": "gzXNQXQT-bQ0"
      },
      "execution_count": null,
      "outputs": []
    },
    {
      "cell_type": "code",
      "source": [],
      "metadata": {
        "id": "LUNW9uZo-bL8"
      },
      "execution_count": null,
      "outputs": []
    },
    {
      "cell_type": "markdown",
      "source": [
        "# Ensemble"
      ],
      "metadata": {
        "id": "4iLXkAx4-afW"
      }
    },
    {
      "cell_type": "code",
      "source": [],
      "metadata": {
        "id": "cRD4QD7O-Czk"
      },
      "execution_count": null,
      "outputs": []
    },
    {
      "cell_type": "code",
      "source": [],
      "metadata": {
        "id": "MsUDOq-wAScP"
      },
      "execution_count": null,
      "outputs": []
    },
    {
      "cell_type": "markdown",
      "source": [
        "# Treino Final & Previsão"
      ],
      "metadata": {
        "id": "ge-AC7dk-jpd"
      }
    },
    {
      "cell_type": "code",
      "source": [],
      "metadata": {
        "id": "irFC4FWz-Cv-"
      },
      "execution_count": null,
      "outputs": []
    },
    {
      "cell_type": "code",
      "source": [],
      "metadata": {
        "id": "jTgIGGCA-CeV"
      },
      "execution_count": null,
      "outputs": []
    }
  ]
}